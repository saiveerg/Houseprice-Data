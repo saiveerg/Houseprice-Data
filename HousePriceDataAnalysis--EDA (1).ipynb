{
 "cells": [
  {
   "cell_type": "code",
   "execution_count": 1,
   "metadata": {},
   "outputs": [],
   "source": [
    "import pandas as pd\n",
    "import numpy as np\n",
    "import warnings\n",
    "warnings.filterwarnings('ignore')\n",
    "from scipy.stats import f_oneway\n",
    "from sklearn.model_selection import train_test_split\n",
    "from sklearn.preprocessing import StandardScaler\n",
    "from sklearn.linear_model import LinearRegression\n",
    "from sklearn.metrics import r2_score,mean_squared_error"
   ]
  },
  {
   "cell_type": "code",
   "execution_count": 2,
   "metadata": {},
   "outputs": [],
   "source": [
    "houseprice_df=pd.read_csv(\"house_price_data.csv\")\n",
    "df_copy=houseprice_df.copy()\n",
    "y=houseprice_df['SalePrice']\n",
    "houseprice_df.drop(columns='SalePrice',inplace=True)\n",
    "#houseprice_df\n"
   ]
  },
  {
   "cell_type": "code",
   "execution_count": 3,
   "metadata": {},
   "outputs": [],
   "source": [
    "na_df=pd.DataFrame({'column_name':houseprice_df.columns,'na_count':houseprice_df.isnull().sum(),\n",
    "                   'na_pc':houseprice_df.isnull().sum()/houseprice_df.shape[0]*100})\n",
    "col_grtr50na=list(na_df[na_df['na_pc']>50]['column_name'].values)\n",
    "col_to_drop=[]\n",
    "for col in houseprice_df.columns:\n",
    "    if len(houseprice_df[col].value_counts())==1 or len(houseprice_df[col].value_counts())==houseprice_df.shape[0]:\n",
    "        col_to_drop.append(col)\n",
    "\n",
    "col_to_drop=col_to_drop+col_grtr50na\n",
    "houseprice_df.drop(columns=col_to_drop,inplace=True)\n"
   ]
  },
  {
   "cell_type": "code",
   "execution_count": 4,
   "metadata": {},
   "outputs": [],
   "source": [
    "#check for the correlation of each input variable with the output variable\n",
    "correlated_cols=[]\n",
    "#PCC check\n",
    "for col in houseprice_df.columns:\n",
    "    if houseprice_df[col].dtype=='int64' or houseprice_df[col].dtype=='float64':\n",
    "        pcc=np.corrcoef(y,houseprice_df[col])[0][1]\n",
    "        if abs(pcc)>0.5:\n",
    "            correlated_cols.append(col)\n",
    "#ANOVA test\n",
    "for col in houseprice_df.columns:\n",
    "    if houseprice_df[col].dtype=='object':\n",
    "        catogories_list=list(houseprice_df[col].value_counts().index)\n",
    "        result=f_oneway(*(df_copy[df_copy[col]==category]['SalePrice'] for category in catogories_list))\n",
    "        if result[1]<0.05:\n",
    "            correlated_cols.append(col)\n",
    "\n",
    "corr_df=houseprice_df[correlated_cols]\n",
    "#corr_df.shape"
   ]
  },
  {
   "cell_type": "code",
   "execution_count": 5,
   "metadata": {},
   "outputs": [],
   "source": [
    "x_train,x_test,y_train,y_test=train_test_split(corr_df,y,test_size=0.2,random_state=21)\n",
    "#x_train"
   ]
  },
  {
   "cell_type": "code",
   "execution_count": 6,
   "metadata": {},
   "outputs": [],
   "source": [
    "#filling missing values(done after train-test-split)\n",
    "for col in x_train.columns:\n",
    "    if x_train[col].dtype=='int64' or x_train[col].dtype=='float64':\n",
    "        x_train[col].fillna(x_train[col].mean(),inplace=True)\n",
    "        x_test[col].fillna(x_train[col].mean(),inplace=True)\n",
    "    if x_train[col].dtype=='object':\n",
    "        x_train[col].fillna(x_train[col].mode()[0],inplace=True)\n",
    "        x_test[col].fillna(x_train[col].mode()[0],inplace=True)        \n",
    "        \n",
    "#x_train.isnull().sum()        "
   ]
  },
  {
   "cell_type": "code",
   "execution_count": 7,
   "metadata": {},
   "outputs": [],
   "source": [
    "#scaling the continuous variables\n",
    "scaler=StandardScaler() #creating object\n",
    "con_cols=[col for col in x_train.columns if x_train[col].dtype=='int64' or x_train[col].dtype=='float64']\n",
    "for col in con_cols:\n",
    "    x_train[col]=scaler.fit_transform(np.array(x_train[col]).reshape(-1,1))\n",
    "    x_test[col]=scaler.transform(np.array(x_test[col]).reshape(-1,1))\n",
    "\n",
    "#x_train[con_cols]\n"
   ]
  },
  {
   "cell_type": "code",
   "execution_count": 8,
   "metadata": {},
   "outputs": [],
   "source": [
    "#one-hot encoding the categorical values\n",
    "oe_train=pd.get_dummies(x_train[[col for col in x_train.columns if x_train[col].dtype=='object']])\n",
    "oe_test=pd.get_dummies(x_test[[col for col in x_test.columns if x_test[col].dtype=='object']])\n",
    "oe_train_final,oe_test_final=oe_train.align(oe_test,join='inner',axis=1)"
   ]
  },
  {
   "cell_type": "code",
   "execution_count": 9,
   "metadata": {},
   "outputs": [],
   "source": [
    "x_train_final=pd.concat([x_train[con_cols],oe_train_final],axis=1)\n",
    "x_test_final=pd.concat([x_test[con_cols],oe_test_final],axis=1)"
   ]
  },
  {
   "cell_type": "code",
   "execution_count": 10,
   "metadata": {},
   "outputs": [],
   "source": [
    "linreg=LinearRegression()\n",
    "linreg.fit(x_train_final,y_train)\n",
    "linreg_pred=linreg.predict(x_test_final)"
   ]
  },
  {
   "cell_type": "code",
   "execution_count": 11,
   "metadata": {},
   "outputs": [
    {
     "data": {
      "text/plain": [
       "0.9063092561412962"
      ]
     },
     "execution_count": 11,
     "metadata": {},
     "output_type": "execute_result"
    }
   ],
   "source": [
    "#to measure performance we have 2 approaches \n",
    "#using linearregression class\n",
    "linreg.score(x_train_final,y_train)"
   ]
  },
  {
   "cell_type": "code",
   "execution_count": 12,
   "metadata": {},
   "outputs": [
    {
     "data": {
      "text/plain": [
       "0.8115567971244987"
      ]
     },
     "execution_count": 12,
     "metadata": {},
     "output_type": "execute_result"
    }
   ],
   "source": [
    "linreg.score(x_test_final,y_test)"
   ]
  },
  {
   "cell_type": "code",
   "execution_count": 13,
   "metadata": {},
   "outputs": [
    {
     "data": {
      "text/plain": [
       "1277138376.9794521"
      ]
     },
     "execution_count": 13,
     "metadata": {},
     "output_type": "execute_result"
    }
   ],
   "source": [
    "#using metrics\n",
    "mean_squared_error(y_test,linreg_pred)"
   ]
  },
  {
   "cell_type": "code",
   "execution_count": 14,
   "metadata": {},
   "outputs": [
    {
     "data": {
      "text/plain": [
       "0.8115567971244987"
      ]
     },
     "execution_count": 14,
     "metadata": {},
     "output_type": "execute_result"
    }
   ],
   "source": [
    "r2_score(y_test,linreg_pred)"
   ]
  },
  {
   "cell_type": "code",
   "execution_count": 15,
   "metadata": {},
   "outputs": [
    {
     "data": {
      "text/html": [
       "<div>\n",
       "<style scoped>\n",
       "    .dataframe tbody tr th:only-of-type {\n",
       "        vertical-align: middle;\n",
       "    }\n",
       "\n",
       "    .dataframe tbody tr th {\n",
       "        vertical-align: top;\n",
       "    }\n",
       "\n",
       "    .dataframe thead th {\n",
       "        text-align: right;\n",
       "    }\n",
       "</style>\n",
       "<table border=\"1\" class=\"dataframe\">\n",
       "  <thead>\n",
       "    <tr style=\"text-align: right;\">\n",
       "      <th></th>\n",
       "      <th>Blore</th>\n",
       "      <th>Chennai</th>\n",
       "      <th>Hyderabad</th>\n",
       "      <th>Pune</th>\n",
       "    </tr>\n",
       "  </thead>\n",
       "  <tbody>\n",
       "    <tr>\n",
       "      <th>0</th>\n",
       "      <td>0</td>\n",
       "      <td>0</td>\n",
       "      <td>1</td>\n",
       "      <td>0</td>\n",
       "    </tr>\n",
       "    <tr>\n",
       "      <th>1</th>\n",
       "      <td>0</td>\n",
       "      <td>0</td>\n",
       "      <td>1</td>\n",
       "      <td>0</td>\n",
       "    </tr>\n",
       "    <tr>\n",
       "      <th>2</th>\n",
       "      <td>0</td>\n",
       "      <td>1</td>\n",
       "      <td>0</td>\n",
       "      <td>0</td>\n",
       "    </tr>\n",
       "    <tr>\n",
       "      <th>3</th>\n",
       "      <td>0</td>\n",
       "      <td>1</td>\n",
       "      <td>0</td>\n",
       "      <td>0</td>\n",
       "    </tr>\n",
       "    <tr>\n",
       "      <th>4</th>\n",
       "      <td>1</td>\n",
       "      <td>0</td>\n",
       "      <td>0</td>\n",
       "      <td>0</td>\n",
       "    </tr>\n",
       "    <tr>\n",
       "      <th>5</th>\n",
       "      <td>0</td>\n",
       "      <td>0</td>\n",
       "      <td>0</td>\n",
       "      <td>1</td>\n",
       "    </tr>\n",
       "    <tr>\n",
       "      <th>6</th>\n",
       "      <td>0</td>\n",
       "      <td>0</td>\n",
       "      <td>0</td>\n",
       "      <td>1</td>\n",
       "    </tr>\n",
       "  </tbody>\n",
       "</table>\n",
       "</div>"
      ],
      "text/plain": [
       "   Blore  Chennai  Hyderabad  Pune\n",
       "0      0        0          1     0\n",
       "1      0        0          1     0\n",
       "2      0        1          0     0\n",
       "3      0        1          0     0\n",
       "4      1        0          0     0\n",
       "5      0        0          0     1\n",
       "6      0        0          0     1"
      ]
     },
     "execution_count": 15,
     "metadata": {},
     "output_type": "execute_result"
    }
   ],
   "source": [
    "#we do align in one-hot encoding because there is every probability of getting new category in test data and which is not present in train data\n",
    "#Which in turn leads to extra columns in test data and gets error when model is performed on test data even the model is good on train data\n",
    "#So inorder to eliminate those extra columns we align both train and test data which returns 2 dataframes having same column names\n",
    "#below is example\n",
    "train=['Hyderabad','Hyderabad','Chennai','Chennai','Blore','Pune','Pune']\n",
    "\n",
    "pd.get_dummies(train)"
   ]
  },
  {
   "cell_type": "code",
   "execution_count": 16,
   "metadata": {},
   "outputs": [
    {
     "data": {
      "text/html": [
       "<div>\n",
       "<style scoped>\n",
       "    .dataframe tbody tr th:only-of-type {\n",
       "        vertical-align: middle;\n",
       "    }\n",
       "\n",
       "    .dataframe tbody tr th {\n",
       "        vertical-align: top;\n",
       "    }\n",
       "\n",
       "    .dataframe thead th {\n",
       "        text-align: right;\n",
       "    }\n",
       "</style>\n",
       "<table border=\"1\" class=\"dataframe\">\n",
       "  <thead>\n",
       "    <tr style=\"text-align: right;\">\n",
       "      <th></th>\n",
       "      <th>Ahmedabad</th>\n",
       "      <th>Blore</th>\n",
       "      <th>Chennai</th>\n",
       "      <th>Hyderabad</th>\n",
       "      <th>Mumbai</th>\n",
       "      <th>Pune</th>\n",
       "    </tr>\n",
       "  </thead>\n",
       "  <tbody>\n",
       "    <tr>\n",
       "      <th>0</th>\n",
       "      <td>1</td>\n",
       "      <td>0</td>\n",
       "      <td>0</td>\n",
       "      <td>0</td>\n",
       "      <td>0</td>\n",
       "      <td>0</td>\n",
       "    </tr>\n",
       "    <tr>\n",
       "      <th>1</th>\n",
       "      <td>0</td>\n",
       "      <td>0</td>\n",
       "      <td>0</td>\n",
       "      <td>1</td>\n",
       "      <td>0</td>\n",
       "      <td>0</td>\n",
       "    </tr>\n",
       "    <tr>\n",
       "      <th>2</th>\n",
       "      <td>0</td>\n",
       "      <td>0</td>\n",
       "      <td>1</td>\n",
       "      <td>0</td>\n",
       "      <td>0</td>\n",
       "      <td>0</td>\n",
       "    </tr>\n",
       "    <tr>\n",
       "      <th>3</th>\n",
       "      <td>0</td>\n",
       "      <td>0</td>\n",
       "      <td>0</td>\n",
       "      <td>0</td>\n",
       "      <td>0</td>\n",
       "      <td>1</td>\n",
       "    </tr>\n",
       "    <tr>\n",
       "      <th>4</th>\n",
       "      <td>0</td>\n",
       "      <td>0</td>\n",
       "      <td>0</td>\n",
       "      <td>0</td>\n",
       "      <td>1</td>\n",
       "      <td>0</td>\n",
       "    </tr>\n",
       "    <tr>\n",
       "      <th>5</th>\n",
       "      <td>0</td>\n",
       "      <td>0</td>\n",
       "      <td>0</td>\n",
       "      <td>1</td>\n",
       "      <td>0</td>\n",
       "      <td>0</td>\n",
       "    </tr>\n",
       "    <tr>\n",
       "      <th>6</th>\n",
       "      <td>0</td>\n",
       "      <td>1</td>\n",
       "      <td>0</td>\n",
       "      <td>0</td>\n",
       "      <td>0</td>\n",
       "      <td>0</td>\n",
       "    </tr>\n",
       "    <tr>\n",
       "      <th>7</th>\n",
       "      <td>0</td>\n",
       "      <td>1</td>\n",
       "      <td>0</td>\n",
       "      <td>0</td>\n",
       "      <td>0</td>\n",
       "      <td>0</td>\n",
       "    </tr>\n",
       "    <tr>\n",
       "      <th>8</th>\n",
       "      <td>1</td>\n",
       "      <td>0</td>\n",
       "      <td>0</td>\n",
       "      <td>0</td>\n",
       "      <td>0</td>\n",
       "      <td>0</td>\n",
       "    </tr>\n",
       "  </tbody>\n",
       "</table>\n",
       "</div>"
      ],
      "text/plain": [
       "   Ahmedabad  Blore  Chennai  Hyderabad  Mumbai  Pune\n",
       "0          1      0        0          0       0     0\n",
       "1          0      0        0          1       0     0\n",
       "2          0      0        1          0       0     0\n",
       "3          0      0        0          0       0     1\n",
       "4          0      0        0          0       1     0\n",
       "5          0      0        0          1       0     0\n",
       "6          0      1        0          0       0     0\n",
       "7          0      1        0          0       0     0\n",
       "8          1      0        0          0       0     0"
      ]
     },
     "execution_count": 16,
     "metadata": {},
     "output_type": "execute_result"
    }
   ],
   "source": [
    "test=['Ahmedabad','Hyderabad','Chennai','Pune','Mumbai','Hyderabad','Blore','Blore','Ahmedabad']\n",
    "\n",
    "pd.get_dummies(test)"
   ]
  }
 ],
 "metadata": {
  "kernelspec": {
   "display_name": "Python 3",
   "language": "python",
   "name": "python3"
  },
  "language_info": {
   "codemirror_mode": {
    "name": "ipython",
    "version": 3
   },
   "file_extension": ".py",
   "mimetype": "text/x-python",
   "name": "python",
   "nbconvert_exporter": "python",
   "pygments_lexer": "ipython3",
   "version": "3.8.5"
  }
 },
 "nbformat": 4,
 "nbformat_minor": 4
}
